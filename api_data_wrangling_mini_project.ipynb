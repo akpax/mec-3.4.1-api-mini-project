{
 "cells": [
  {
   "cell_type": "markdown",
   "metadata": {},
   "source": [
    "This exercise will require you to pull some data from https://data.nasdaq.com/ (formerly Quandl API)."
   ]
  },
  {
   "cell_type": "markdown",
   "metadata": {},
   "source": [
    "As a first step, you will need to register a free account on the https://data.nasdaq.com/ website."
   ]
  },
  {
   "cell_type": "markdown",
   "metadata": {},
   "source": [
    "After you register, you will be provided with a unique API key, that you should store:\n",
    "\n",
    "*Note*: Use a `.env` file and put your key in there and `python-dotenv` to access it in this notebook. \n",
    "\n",
    "The code below uses a key that was used when generating this project but has since been deleted. Never submit your keys to source control. There is a `.env-example` file in this repository to illusrtate what you need. Copy that to a file called `.env` and use your own api key in that `.env` file. Make sure you also have a `.gitignore` file with a line for `.env` added to it. \n",
    "\n",
    "The standard Python gitignore is [here](https://github.com/github/gitignore/blob/master/Python.gitignore) you can just copy that. "
   ]
  },
  {
   "cell_type": "code",
   "execution_count": 3,
   "metadata": {},
   "outputs": [
    {
     "name": "stdout",
     "output_type": "stream",
     "text": [
      "Requirement already satisfied: python-dotenv in /Users/austinpaxton/opt/anaconda3/lib/python3.9/site-packages (0.21.1)\r\n"
     ]
    }
   ],
   "source": [
    "!pip install python-dotenv"
   ]
  },
  {
   "cell_type": "code",
   "execution_count": 117,
   "metadata": {},
   "outputs": [],
   "source": [
    "# get api key from your .env file\n",
    "import os\n",
    "from dotenv import load_dotenv  # if missing this module, simply run `pip install python-dotenv`\n",
    "\n",
    "load_dotenv()\n",
    "API_KEY = os.getenv('NASDAQ_API_KEY')\n"
   ]
  },
  {
   "cell_type": "markdown",
   "metadata": {},
   "source": [
    "Nasdaq Data has a large number of data sources, but, unfortunately, most of them require a Premium subscription. Still, there are also a good number of free datasets."
   ]
  },
  {
   "cell_type": "markdown",
   "metadata": {},
   "source": [
    "For this mini project, we will focus on equities data from the Frankfurt Stock Exhange (FSE), which is available for free. We'll try and analyze the stock prices of a company called Carl Zeiss Meditec, which manufactures tools for eye examinations, as well as medical lasers for laser eye surgery: https://www.zeiss.com/meditec/int/home.html. The company is listed under the stock ticker AFX_X."
   ]
  },
  {
   "cell_type": "markdown",
   "metadata": {},
   "source": [
    "You can find the detailed Nasdaq Data API instructions here: https://docs.data.nasdaq.com/docs/in-depth-usage"
   ]
  },
  {
   "cell_type": "markdown",
   "metadata": {},
   "source": [
    "While there is a dedicated Python package for connecting to the Nasdaq API, we would prefer that you use the *requests* package, which can be easily downloaded using *pip* or *conda*. You can find the documentation for the package here: http://docs.python-requests.org/en/master/ "
   ]
  },
  {
   "cell_type": "markdown",
   "metadata": {},
   "source": [
    "Finally, apart from the *requests* package, you are encouraged to not use any third party Python packages, such as *pandas*, and instead focus on what's available in the Python Standard Library (the *collections* module might come in handy: https://pymotw.com/3/collections/).\n",
    "Also, since you won't have access to DataFrames, you are encouraged to us Python's native data structures - preferably dictionaries, though some questions can also be answered using lists.\n",
    "You can read more on these data structures here: https://docs.python.org/3/tutorial/datastructures.html"
   ]
  },
  {
   "cell_type": "markdown",
   "metadata": {},
   "source": [
    "Keep in mind that the JSON responses you will be getting from the API map almost one-to-one to Python's dictionaries. Unfortunately, they can be very nested, so make sure you read up on indexing dictionaries in the documentation provided above."
   ]
  },
  {
   "cell_type": "code",
   "execution_count": 76,
   "metadata": {},
   "outputs": [],
   "source": [
    "# First, import the relevant modules\n",
    "import requests\n",
    "import math"
   ]
  },
  {
   "cell_type": "markdown",
   "metadata": {},
   "source": [
    "Note: API's can change a bit with each version, for this exercise it is reccomended to use the nasdaq api at `https://data.nasdaq.com/api/v3/`. This is the same api as what used to be quandl so `https://www.quandl.com/api/v3/` should work too.\n",
    "\n",
    "Hint: We are looking for the `AFX_X` data on the `datasets/FSE/` dataset."
   ]
  },
  {
   "cell_type": "code",
   "execution_count": 29,
   "metadata": {
    "scrolled": true
   },
   "outputs": [
    {
     "name": "stdout",
     "output_type": "stream",
     "text": [
      "{'dataset_data': {'limit': None, 'transform': None, 'column_index': None, 'column_names': ['Date', 'Open', 'High', 'Low', 'Close', 'Change', 'Traded Volume', 'Turnover', 'Last Price of the Day', 'Daily Traded Units', 'Daily Turnover'], 'start_date': '2007-01-03', 'end_date': '2007-01-03', 'frequency': 'daily', 'data': [['2007-01-03', 16.5, 16.65, 16.28, 16.33, None, 57386.0, 944194.0, None, None, None]], 'collapse': None, 'order': None}}\n"
     ]
    }
   ],
   "source": [
    "# Now, call the Nasdaq API and pull out a small sample of the data (only one day) to get a glimpse\n",
    "# into the JSON structure that will be returned\n",
    "#URL = \"https://data.nasdaq.com/api/v3/datasets/XFRA/AFX/EOD.json?start_date=2023-01-01&end_date=2023-01-01\"\n",
    "URL =  f\"https://data.nasdaq.com/api/v3/datasets/FSE/AFX_X/data.json?api_key={API_KEY}\"\n",
    "PARAMS = {\n",
    "    \"start_date\": \"2007-01-03\",\n",
    "    \"end_date\": \"2007-01-03\",\n",
    "}\n",
    "response = requests.get(url=URL, params=PARAMS)\n",
    "response.raise_for_status\n",
    "data_sample = response.json()\n",
    "print(data_sample)"
   ]
  },
  {
   "cell_type": "code",
   "execution_count": 30,
   "metadata": {},
   "outputs": [
    {
     "name": "stdout",
     "output_type": "stream",
     "text": [
      "[['2007-01-03', 16.5, 16.65, 16.28, 16.33, None, 57386.0, 944194.0, None, None, None]]\n"
     ]
    }
   ],
   "source": [
    "print(data_sample[\"dataset_data\"][\"data\"])"
   ]
  },
  {
   "cell_type": "code",
   "execution_count": 32,
   "metadata": {},
   "outputs": [
    {
     "name": "stdout",
     "output_type": "stream",
     "text": [
      "['Date', 'Open', 'High', 'Low', 'Close', 'Change', 'Traded Volume', 'Turnover', 'Last Price of the Day', 'Daily Traded Units', 'Daily Turnover']\n"
     ]
    }
   ],
   "source": [
    "print(data_sample[\"dataset_data\"][\"column_names\"])"
   ]
  },
  {
   "cell_type": "code",
   "execution_count": 9,
   "metadata": {},
   "outputs": [
    {
     "name": "stdout",
     "output_type": "stream",
     "text": [
      "{'dataset': {'id': 10095370, 'dataset_code': 'AFX_X', 'database_code': 'FSE', 'name': 'Carl Zeiss Meditec (AFX_X)', 'description': 'Stock Prices for Carl Zeiss Meditec (2020-11-02) from the Frankfurt Stock Exchange.<br><br>Trading System: Xetra<br><br>ISIN: DE0005313704', 'refreshed_at': '2020-12-01T14:48:09.907Z', 'newest_available_date': '2020-12-01', 'oldest_available_date': '2000-06-07', 'column_names': ['Date', 'Open', 'High', 'Low', 'Close', 'Change', 'Traded Volume', 'Turnover', 'Last Price of the Day', 'Daily Traded Units', 'Daily Turnover'], 'frequency': 'daily', 'type': 'Time Series', 'premium': False, 'limit': None, 'transform': None, 'column_index': None, 'start_date': '2021-01-03', 'end_date': '2020-12-01', 'data': [], 'collapse': None, 'order': None, 'database_id': 6129}}\n"
     ]
    }
   ],
   "source": [
    "# Inspect the JSON structure of the object you created, and take note of how nested it is,\n",
    "# as well as the overall structure"
   ]
  },
  {
   "cell_type": "markdown",
   "metadata": {},
   "source": [
    "These are your tasks for this mini project:\n",
    "\n",
    "1. Collect data from the Franfurt Stock Exchange, for the ticker AFX_X, for the whole year 2017 (keep in mind that the date format is YYYY-MM-DD).\n",
    "2. Convert the returned JSON object into a Python dictionary.\n",
    "3. Calculate what the highest and lowest opening prices were for the stock in this period.\n",
    "4. What was the largest change in any one day (based on High and Low price)?\n",
    "5. What was the largest change between any two days (based on Closing Price)?\n",
    "6. What was the average daily trading volume during this year?\n",
    "7. (Optional) What was the median trading volume during this year. (Note: you may need to implement your own function for calculating the median.)"
   ]
  },
  {
   "cell_type": "code",
   "execution_count": 106,
   "metadata": {},
   "outputs": [],
   "source": [
    "# 1. Collect Data for AFX_X for 2017\n",
    "\n",
    "URL =  f\"https://data.nasdaq.com/api/v3/datasets/FSE/AFX_X/data.json?api_key={API_KEY}\"\n",
    "PARAMS = {\n",
    "    \"start_date\": \"2017-01-01\",\n",
    "    \"end_date\": \"2018-01-01\",\n",
    "    \"order\": \"asc\"\n",
    "}\n",
    "response = requests.get(url=URL, params=PARAMS)\n",
    "response.raise_for_status\n",
    "data = response.json()\n"
   ]
  },
  {
   "cell_type": "code",
   "execution_count": 107,
   "metadata": {},
   "outputs": [],
   "source": [
    "# 2. Convert Returned JSON object into python dictionary\n",
    "data_list = data[\"dataset_data\"][\"data\"]\n",
    "\n",
    "for day in data_list:\n",
    "    data_dict[day[0]] =  {'Open': day[1], \n",
    "               'High': day[2],\n",
    "               'Low': day[3],\n",
    "               'Close': day[4],\n",
    "               'Change': day[5],\n",
    "               'Traded Volume': day[6],\n",
    "               'Turnover': day[7],\n",
    "               'Last Price of the Day': day[8], \n",
    "               'Daily Traded Units': day[9],\n",
    "               'Daily Turnover': day[10]\n",
    "        } \n"
   ]
  },
  {
   "cell_type": "code",
   "execution_count": 108,
   "metadata": {},
   "outputs": [
    {
     "name": "stdout",
     "output_type": "stream",
     "text": [
      "{'Open': 34.99, 'High': 35.94, 'Low': 34.99, 'Close': 35.8, 'Change': None, 'Traded Volume': 44700.0, 'Turnover': 1590561.0, 'Last Price of the Day': None, 'Daily Traded Units': None, 'Daily Turnover': None}\n"
     ]
    }
   ],
   "source": [
    "print(data_dict[\"2017-01-02\"])"
   ]
  },
  {
   "cell_type": "code",
   "execution_count": 50,
   "metadata": {},
   "outputs": [
    {
     "name": "stdout",
     "output_type": "stream",
     "text": [
      "High: 53.54 | Low: 33.62\n"
     ]
    }
   ],
   "source": [
    "# 3. Calculate highest and lowest prices in this period\n",
    "high = 0\n",
    "low = 10000\n",
    "\n",
    "for day in data_dict.values():\n",
    "    if day[\"High\"]> high:\n",
    "        high = day[\"High\"]\n",
    "    if day[\"Low\"]< low:\n",
    "        low = day[\"Low\"]\n",
    "        \n",
    "print(f\"High: {high} | Low: {low}\")\n",
    "    "
   ]
  },
  {
   "cell_type": "code",
   "execution_count": 52,
   "metadata": {},
   "outputs": [
    {
     "name": "stdout",
     "output_type": "stream",
     "text": [
      "Max Change: 2.81\n"
     ]
    }
   ],
   "source": [
    "# 4. Calculate largest change in 1 day\n",
    "change_max = 0\n",
    "\n",
    "for day in data_dict.values():\n",
    "    if day[\"High\"]-day[\"Low\"]> change_max:\n",
    "        change_max = day[\"High\"]-day[\"Low\"]\n",
    "    \n",
    "print(f\"Max Change: {round(change_max,2)}\")\n"
   ]
  },
  {
   "cell_type": "code",
   "execution_count": 112,
   "metadata": {},
   "outputs": [
    {
     "name": "stdout",
     "output_type": "stream",
     "text": [
      "Max Change: $-2.56\n"
     ]
    }
   ],
   "source": [
    "# 5. Largest Change Between 2 Days\n",
    "change2 = 0\n",
    "prev_day = data_dict[\"2017-01-02\"][\"Close\"]\n",
    "\n",
    "for day in data_dict.values():\n",
    "    if abs(day[\"Close\"] - prev_day) >abs(change2):\n",
    "        change2 = day[\"Close\"] - prev_day   \n",
    "    prev_day = day[\"Close\"]\n",
    "    \n",
    "print(f\"Max Change: ${round(change2,2)}\")"
   ]
  },
  {
   "cell_type": "code",
   "execution_count": 113,
   "metadata": {},
   "outputs": [
    {
     "name": "stdout",
     "output_type": "stream",
     "text": [
      "Average Daily Traded Volume: 89124.34\n"
     ]
    }
   ],
   "source": [
    "# 6. What was the average daily trading volume for this year?\n",
    "vol_sum = 0\n",
    "num_days = 0\n",
    "for day in data_dict.values():\n",
    "    vol_sum += day[\"Traded Volume\"]\n",
    "    num_days += 1\n",
    "    \n",
    "ADT_vol = vol_sum/num_days\n",
    "print(f\"Average Daily Traded Volume: {round(ADT_vol,2)}\")\n",
    "    "
   ]
  },
  {
   "cell_type": "code",
   "execution_count": 114,
   "metadata": {},
   "outputs": [],
   "source": [
    "# 7. What was the median trading volume for the whole year?\n",
    "vol_list = []\n",
    "#Turn volumes into list\n",
    "for day in data_dict.values():\n",
    "    vol_list.append(day[\"Traded Volume\"])\n",
    "    \n",
    "\n",
    "    \n",
    "    "
   ]
  },
  {
   "cell_type": "code",
   "execution_count": 115,
   "metadata": {},
   "outputs": [],
   "source": [
    "# 7. What was the median trading volume for the whole year?\n",
    "def find_median(list):\n",
    "    list.sort()\n",
    "    midpoint_ind = len(list)/2\n",
    "    if len(list)%2 == 0: #Handles even number of entries\n",
    "        median = (list[midpoint_ind]+list[midpoint_ind-1])/2\n",
    "    else: #Handles odd number of entries\n",
    "        median = list[math.floor(midpoint_ind)]\n",
    "    return median\n",
    "            "
   ]
  },
  {
   "cell_type": "code",
   "execution_count": 116,
   "metadata": {},
   "outputs": [
    {
     "name": "stdout",
     "output_type": "stream",
     "text": [
      "76286.0\n"
     ]
    }
   ],
   "source": [
    "# 7. What was the median trading volume for the whole year?\n",
    "vol_median = find_median(vol_list)\n",
    "print(vol_median)"
   ]
  },
  {
   "cell_type": "code",
   "execution_count": null,
   "metadata": {},
   "outputs": [],
   "source": []
  }
 ],
 "metadata": {
  "interpreter": {
   "hash": "4885f37acae9217c235118400878352aafa7b76e66df698a1f601374f86939a7"
  },
  "kernelspec": {
   "display_name": "Python 3 (ipykernel)",
   "language": "python",
   "name": "python3"
  },
  "language_info": {
   "codemirror_mode": {
    "name": "ipython",
    "version": 3
   },
   "file_extension": ".py",
   "mimetype": "text/x-python",
   "name": "python",
   "nbconvert_exporter": "python",
   "pygments_lexer": "ipython3",
   "version": "3.9.7"
  }
 },
 "nbformat": 4,
 "nbformat_minor": 4
}
